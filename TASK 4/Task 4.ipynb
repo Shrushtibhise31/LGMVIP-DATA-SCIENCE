{
 "cells": [
  {
   "cell_type": "markdown",
   "id": "df0be92c",
   "metadata": {},
   "source": [
    "## Shrushti Bhise\n",
    "## LGMVIP FEB 22\n",
    "### **Task 4: Develop A Neural Network That Can Read Handwriting**"
   ]
  },
  {
   "cell_type": "markdown",
   "id": "d3d25acf",
   "metadata": {},
   "source": [
    "### Importing libraries"
   ]
  },
  {
   "cell_type": "code",
   "execution_count": 3,
   "id": "af89b7cf",
   "metadata": {},
   "outputs": [],
   "source": [
    "import tensorflow as tf\n",
    "import matplotlib.pyplot as plt\n",
    "import numpy as np"
   ]
  },
  {
   "cell_type": "code",
   "execution_count": 4,
   "id": "59423df3",
   "metadata": {},
   "outputs": [],
   "source": [
    "mnist = tf.keras.datasets.mnist"
   ]
  },
  {
   "cell_type": "markdown",
   "id": "51080552",
   "metadata": {},
   "source": [
    "### Loading data"
   ]
  },
  {
   "cell_type": "code",
   "execution_count": 5,
   "id": "6fcec830",
   "metadata": {},
   "outputs": [],
   "source": [
    "(X_train, y_train), (X_test, y_test) = mnist.load_data()\n",
    "X_train = X_train.reshape(60000, 28, 28, 1)\n",
    "X_train = tf.keras.utils.normalize(X_train, axis=1)\n",
    "\n",
    "X_test = X_test.reshape(10000, 28, 28, 1)\n",
    "X_test = tf.keras.utils.normalize(X_test, axis=1)"
   ]
  },
  {
   "cell_type": "code",
   "execution_count": 8,
   "id": "6fb06bb9",
   "metadata": {},
   "outputs": [
    {
     "data": {
      "image/png": "[encoded data removed]",
      "text/plain": [
       "<Figure size 432x288 with 1 Axes>"
      ]
     },
     "metadata": {
      "needs_background": "light"
     },
     "output_type": "display_data"
    }
   ],
   "source": [
    "plt.imshow(X_train[4])\n",
    "plt.show()"
   ]
  },
  {
   "cell_type": "markdown",
   "id": "fc32b90a",
   "metadata": {},
   "source": [
    "#### We can see that the above image looks like number 9"
   ]
  },
  {
   "cell_type": "markdown",
   "id": "3f6961d7",
   "metadata": {},
   "source": [
    " ### Training the model"
   ]
  },
  {
   "cell_type": "code",
   "execution_count": 11,
   "id": "6c4186b5",
   "metadata": {},
   "outputs": [
    {
     "name": "stdout",
     "output_type": "stream",
     "text": [
      "Epoch 1/5\n",
      "1875/1875 [==============================] - 19s 10ms/step - loss: 0.2023 - accuracy: 0.9411\n",
      "Epoch 2/5\n",
      "1875/1875 [==============================] - 18s 10ms/step - loss: 0.0698 - accuracy: 0.9789\n",
      "Epoch 3/5\n",
      "1875/1875 [==============================] - 18s 10ms/step - loss: 0.0452 - accuracy: 0.9857\n",
      "Epoch 4/5\n",
      "1875/1875 [==============================] - 19s 10ms/step - loss: 0.0321 - accuracy: 0.9901\n",
      "Epoch 5/5\n",
      "1875/1875 [==============================] - 18s 10ms/step - loss: 0.0236 - accuracy: 0.9923\n"
     ]
    },
    {
     "data": {
      "text/plain": [
       "<keras.callbacks.History at 0x18d0834a400>"
      ]
     },
     "execution_count": 11,
     "metadata": {},
     "output_type": "execute_result"
    }
   ],
   "source": [
    "model = tf.keras.models.Sequential()\n",
    "model.add(tf.keras.layers.Conv2D(32, (3,3), activation='relu', input_shape=(28, 28, 1)))\n",
    "model.add(tf.keras.layers.MaxPooling2D(2, 2))\n",
    "model.add(tf.keras.layers.Flatten())\n",
    "model.add(tf.keras.layers.Dense(128, activation='relu'))\n",
    "model.add(tf.keras.layers.Dense(10, activation='softmax'))\n",
    "\n",
    "model.compile(optimizer='adam', loss='sparse_categorical_crossentropy', metrics=['accuracy'])\n",
    "\n",
    "model.fit(X_train, y_train, epochs=5)"
   ]
  },
  {
   "cell_type": "markdown",
   "id": "b94d6499",
   "metadata": {},
   "source": [
    " ### Evaluating the model"
   ]
  },
  {
   "cell_type": "code",
   "execution_count": 13,
   "id": "a23ce2f9",
   "metadata": {},
   "outputs": [
    {
     "name": "stdout",
     "output_type": "stream",
     "text": [
      "313/313 [==============================] - 1s 3ms/step - loss: 0.0611 - accuracy: 0.9818\n",
      "Validation accuracy:  0.9818000197410583\n",
      "Validation loss:  0.061087947338819504\n"
     ]
    }
   ],
   "source": [
    "val_loss, val_acc = model.evaluate(X_test, y_test)\n",
    "print(\"Validation accuracy: \", val_acc)\n",
    "print(\"Validation loss: \", val_loss)"
   ]
  },
  {
   "cell_type": "markdown",
   "id": "627c6882",
   "metadata": {},
   "source": [
    " ### Making predictions"
   ]
  },
  {
   "cell_type": "code",
   "execution_count": 15,
   "id": "63956f13",
   "metadata": {},
   "outputs": [
    {
     "data": {
      "image/png": "[encoded data removed]",
      "text/plain": [
       "<Figure size 432x288 with 1 Axes>"
      ]
     },
     "metadata": {
      "needs_background": "light"
     },
     "output_type": "display_data"
    }
   ],
   "source": [
    "plt.imshow(X_test[4])\n",
    "plt.show()"
   ]
  },
  {
   "cell_type": "code",
   "execution_count": 17,
   "id": "b40cf4b5",
   "metadata": {},
   "outputs": [],
   "source": [
    "prediction = model.predict([X_test])"
   ]
  },
  {
   "cell_type": "code",
   "execution_count": 20,
   "id": "0d15a74c",
   "metadata": {},
   "outputs": [
    {
     "name": "stdout",
     "output_type": "stream",
     "text": [
      "[[5.19268495e-09 1.07533475e-08 1.13224905e-06 ... 9.99985218e-01\n",
      "  4.07197192e-08 5.09980680e-07]\n",
      " [4.42505943e-09 1.10425908e-05 9.99983549e-01 ... 8.40862102e-12\n",
      "  4.00235649e-08 9.12889447e-13]\n",
      " [4.11757384e-07 9.99996901e-01 8.43874801e-08 ... 6.93705147e-08\n",
      "  9.28020199e-07 5.64204994e-09]\n",
      " ...\n",
      " [3.35620087e-10 1.97410898e-07 1.43866641e-09 ... 8.18458489e-07\n",
      "  9.84195285e-05 7.28595987e-05]\n",
      " [1.72398629e-07 1.08147324e-10 3.29668411e-11 ... 2.09249595e-08\n",
      "  8.09765334e-05 4.47346249e-09]\n",
      " [1.06617899e-05 5.90848543e-08 1.91830713e-06 ... 4.92493069e-12\n",
      "  2.16064066e-07 1.38707421e-10]]\n"
     ]
    }
   ],
   "source": [
    "print(prediction)"
   ]
  },
  {
   "cell_type": "code",
   "execution_count": 21,
   "id": "dd032b8d",
   "metadata": {},
   "outputs": [
    {
     "name": "stdout",
     "output_type": "stream",
     "text": [
      "Predicted number is: 4\n"
     ]
    }
   ],
   "source": [
    "print(\"Predicted number is:\", np.argmax(prediction[4]))"
   ]
  },
  {
   "cell_type": "markdown",
   "id": "5e9b89f6",
   "metadata": {},
   "source": [
    "## As we can see the image in the test set is \"4\" and the predicted value of the same array element is also \"4\". So therefore, model prediction is accurate "
   ]
  },
  {
   "cell_type": "markdown",
   "id": "d315e19b",
   "metadata": {},
   "source": [
    "## Thank you"
   ]
  }
 ],
 "metadata": {
  "kernelspec": {
   "display_name": "Python 3",
   "language": "python",
   "name": "python3"
  },
  "language_info": {
   "codemirror_mode": {
    "name": "ipython",
    "version": 3
   },
   "file_extension": ".py",
   "mimetype": "text/x-python",
   "name": "python",
   "nbconvert_exporter": "python",
   "pygments_lexer": "ipython3",
   "version": "3.9.2"
  }
 },
 "nbformat": 4,
 "nbformat_minor": 5
}
